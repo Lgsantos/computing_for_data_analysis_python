{
 "metadata": {
  "css": [
   ""
  ],
  "name": ""
 },
 "nbformat": 3,
 "nbformat_minor": 0,
 "worksheets": [
  {
   "cells": [
    {
     "cell_type": "markdown",
     "metadata": {},
     "source": [
      "#Homework #4"
     ]
    },
    {
     "cell_type": "markdown",
     "metadata": {},
     "source": [
      "This is a homework assignemnt four given in Roger Peng [Coursera](https://www.coursera.org) class [Computing for Data Analysis](https://www.coursera.org/course/compdata)."
     ]
    },
    {
     "cell_type": "markdown",
     "metadata": {},
     "source": [
      "##Baltimore Homicides"
     ]
    },
    {
     "cell_type": "code",
     "collapsed": false,
     "input": [
      "!head -n2 data/homicides.txt "
     ],
     "language": "python",
     "metadata": {},
     "outputs": [
      {
       "output_type": "stream",
       "stream": "stdout",
       "text": [
        "39.311024, -76.674227, iconHomicideShooting, 'p2', '<dl><dt>Leon Nelson</dt><dd class=\"address\">3400 Clifton Ave.<br />Baltimore, MD 21216</dd><dd>black male, 17 years old</dd><dd>Found on January 1, 2007</dd><dd>Victim died at Shock Trauma</dd><dd>Cause: shooting</dd></dl>'\r\n",
        "39.312641, -76.698948, iconHomicideShooting, 'p3', '<dl><dt>Eddie Golf</dt><dd class=\"address\">4900 Challedon Road<br />Baltimore, MD 21207</dd><dd>black male, 26 years old</dd><dd>Found on January 2, 2007</dd><dd>Victim died at scene</dd><dd>Cause: shooting</dd></dl>'\r\n"
       ]
      }
     ],
     "prompt_number": 2
    },
    {
     "cell_type": "code",
     "collapsed": false,
     "input": [
      "import re\n",
      "import os"
     ],
     "language": "python",
     "metadata": {},
     "outputs": [],
     "prompt_number": 5
    },
    {
     "cell_type": "code",
     "collapsed": false,
     "input": [
      "with open(os.path.join('data','homicides.txt'), 'r') as infile:\n",
      "    data = infile.read()"
     ],
     "language": "python",
     "metadata": {},
     "outputs": [],
     "prompt_number": 6
    },
    {
     "cell_type": "code",
     "collapsed": false,
     "input": [
      "print len(data.split('\\n')), 'lines of data'"
     ],
     "language": "python",
     "metadata": {},
     "outputs": [
      {
       "output_type": "stream",
       "stream": "stdout",
       "text": [
        "1251 lines of data\n"
       ]
      }
     ],
     "prompt_number": 7
    },
    {
     "cell_type": "markdown",
     "metadata": {},
     "source": [
      "## Cause"
     ]
    },
    {
     "cell_type": "markdown",
     "metadata": {},
     "source": [
      "The following is taken from the coursera [description](http://spark-public.s3.amazonaws.com/compdata/documents/ProgAssignment4.pdf).\n",
      "\n",
      "The basic goal is to extract this field and count the number of instances of each cause.\n",
      "\n",
      "- The options for cause of death are \u201casphyxiation\u201d, \u201cblunt force\u201d, \u201cother\u201d, \u201cshooting\u201d, \u201cstabbing\u201d, \u201cunknown\u201d. No other causes are allowed. If a cause of death is specified that is not one of these, then the function should throw an error with the stop function.\n",
      "- Note that some homicides in the dataset do not have a cause of death listed and those records should be ignored.\n",
      "- Your function should deal with some irregularities in the dataset like capitalization. For example \u201cShooting\u201d and \u201cshooting\u201d should be counted as the same cause of death.\n",
      "- Do not worry about spelling errors in the dataset (records with spelling errors can be ignored)"
     ]
    },
    {
     "cell_type": "code",
     "collapsed": false,
     "input": [
      "pattern = r'([Cc]ause:)([ ]+)([a-zA-Z]+)'\n",
      "regex = re.compile(pattern)\n",
      "values = regex.findall(data)\n",
      "print len(values)"
     ],
     "language": "python",
     "metadata": {},
     "outputs": [
      {
       "output_type": "stream",
       "stream": "stdout",
       "text": [
        "1245\n"
       ]
      }
     ],
     "prompt_number": 8
    },
    {
     "cell_type": "code",
     "collapsed": false,
     "input": [
      "causes = {}\n",
      "for val in values:\n",
      "    causes[val[2].lower()] = causes.get(val[2].lower(),0) + 1"
     ],
     "language": "python",
     "metadata": {},
     "outputs": [],
     "prompt_number": 9
    },
    {
     "cell_type": "code",
     "collapsed": false,
     "input": [
      "for key, value in causes.items():\n",
      "    print key, value"
     ],
     "language": "python",
     "metadata": {},
     "outputs": [
      {
       "output_type": "stream",
       "stream": "stdout",
       "text": [
        "unknown 10\n",
        "asphyxiation 28\n",
        "other 6\n",
        "stabbing 121\n",
        "shooting 1003\n",
        "blunt 77\n"
       ]
      }
     ],
     "prompt_number": 10
    },
    {
     "cell_type": "markdown",
     "metadata": {},
     "source": [
      "##Ages of homicide victims\n",
      "\n",
      "Modifyed from the original homework: get a historgram of ages."
     ]
    },
    {
     "cell_type": "code",
     "collapsed": false,
     "input": [
      "pattern = r'([0-9]{1,2})[ ]+(years old)'\n",
      "regex = re.compile(pattern)\n",
      "values = regex.findall(data)\n",
      "print len(values)"
     ],
     "language": "python",
     "metadata": {},
     "outputs": [
      {
       "output_type": "stream",
       "stream": "stdout",
       "text": [
        "1229\n"
       ]
      }
     ],
     "prompt_number": 11
    },
    {
     "cell_type": "code",
     "collapsed": false,
     "input": [
      "ages = []\n",
      "for val in values:\n",
      "    ages.append(float(val[0]))"
     ],
     "language": "python",
     "metadata": {},
     "outputs": [],
     "prompt_number": 12
    },
    {
     "cell_type": "code",
     "collapsed": false,
     "input": [
      "import matplotlib.pyplot as plt\n",
      "plt.hist(ages, bins=10)\n",
      "plt.show()"
     ],
     "language": "python",
     "metadata": {},
     "outputs": [
      {
       "metadata": {},
       "output_type": "display_data",
       "png": "[encoded data removed]",
       "text": [
        "<matplotlib.figure.Figure at 0x105740e50>"
       ]
      }
     ],
     "prompt_number": 13
    },
    {
     "cell_type": "code",
     "collapsed": false,
     "input": [],
     "language": "python",
     "metadata": {},
     "outputs": []
    }
   ],
   "metadata": {}
  }
 ]
}