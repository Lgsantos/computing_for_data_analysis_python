{
 "metadata": {
  "css": [
   ""
  ],
  "name": ""
 },
 "nbformat": 3,
 "nbformat_minor": 0,
 "worksheets": [
  {
   "cells": [
    {
     "cell_type": "markdown",
     "metadata": {},
     "source": [
      "#Homework #2"
     ]
    },
    {
     "cell_type": "markdown",
     "metadata": {},
     "source": [
      "This is a homework assignemnt two given in Roger Peng [Coursera](https://www.coursera.org) class [Computing for Data Analysis](https://www.coursera.org/course/compdata)."
     ]
    },
    {
     "cell_type": "code",
     "collapsed": false,
     "input": [
      "import pandas as pd\n",
      "import os\n",
      "import glob"
     ],
     "language": "python",
     "metadata": {},
     "outputs": [],
     "prompt_number": 1
    },
    {
     "cell_type": "markdown",
     "metadata": {},
     "source": [
      "##Part A"
     ]
    },
    {
     "cell_type": "code",
     "collapsed": false,
     "input": [
      "!unzip data/specdata.zip"
     ],
     "language": "python",
     "metadata": {},
     "outputs": [
      {
       "output_type": "stream",
       "stream": "stdout",
       "text": [
        "Archive:  data/specdata.zip\r\n",
        "   creating: specdata/\r\n",
        "  inflating: specdata/001.csv        \r\n",
        "  inflating: specdata/002.csv        \r\n",
        "  inflating: specdata/003.csv        \r\n",
        "  inflating: specdata/004.csv        \r\n",
        "  inflating: specdata/005.csv        \r\n",
        "  inflating: specdata/006.csv        \r\n",
        "  inflating: specdata/007.csv        \r\n",
        "  inflating: specdata/008.csv        \r\n",
        "  inflating: specdata/009.csv        \r\n",
        "  inflating: specdata/010.csv        \r\n",
        "  inflating: specdata/011.csv        \r\n",
        "  inflating: specdata/012.csv        \r\n",
        "  inflating: specdata/013.csv        \r\n",
        "  inflating: specdata/014.csv        \r\n",
        "  inflating: specdata/015.csv        \r\n",
        "  inflating: specdata/016.csv        \r\n",
        "  inflating: specdata/017.csv        \r\n",
        "  inflating: specdata/018.csv        \r\n",
        "  inflating: specdata/019.csv        \r\n",
        "  inflating: specdata/020.csv        \r\n",
        "  inflating: specdata/021.csv        \r\n",
        "  inflating: specdata/022.csv        \r\n",
        "  inflating: specdata/023.csv        \r\n",
        "  inflating: specdata/024.csv        \r\n",
        "  inflating: specdata/025.csv        \r\n",
        "  inflating: specdata/026.csv        \r\n",
        "  inflating: specdata/027.csv        \r\n",
        "  inflating: specdata/028.csv        \r\n",
        "  inflating: specdata/029.csv        \r\n",
        "  inflating: specdata/030.csv        \r\n",
        "  inflating: specdata/031.csv        \r\n",
        "  inflating: specdata/032.csv        \r\n",
        "  inflating: specdata/033.csv        \r\n",
        "  inflating: specdata/034.csv        \r\n",
        "  inflating: specdata/035.csv        \r\n",
        "  inflating: specdata/036.csv        \r\n",
        "  inflating: specdata/037.csv        \r\n",
        "  inflating: specdata/038.csv        \r\n",
        "  inflating: specdata/039.csv        \r\n",
        "  inflating: specdata/040.csv        \r\n",
        "  inflating: specdata/041.csv        \r\n",
        "  inflating: specdata/042.csv        \r\n",
        "  inflating: specdata/043.csv        \r\n",
        "  inflating: specdata/044.csv        \r\n",
        "  inflating: specdata/045.csv        \r\n",
        "  inflating: specdata/046.csv        \r\n",
        "  inflating: specdata/047.csv        \r\n",
        "  inflating: specdata/048.csv        \r\n",
        "  inflating: specdata/049.csv        \r\n",
        "  inflating: specdata/050.csv        \r\n",
        "  inflating: specdata/051.csv        \r\n",
        "  inflating: specdata/052.csv        \r\n",
        "  inflating: specdata/053.csv        \r\n",
        "  inflating: specdata/054.csv        \r\n",
        "  inflating: specdata/055.csv        \r\n",
        "  inflating: specdata/056.csv        \r\n",
        "  inflating: specdata/057.csv        \r\n",
        "  inflating: specdata/058.csv        \r\n",
        "  inflating: specdata/059.csv        \r\n",
        "  inflating: specdata/060.csv        \r\n",
        "  inflating: specdata/061.csv        \r\n",
        "  inflating: specdata/062.csv        \r\n"
       ]
      },
      {
       "output_type": "stream",
       "stream": "stdout",
       "text": [
        "  inflating: specdata/063.csv        \r\n",
        "  inflating: specdata/064.csv        \r\n",
        "  inflating: specdata/065.csv        \r\n",
        "  inflating: specdata/066.csv        \r\n",
        "  inflating: specdata/067.csv        \r\n",
        "  inflating: specdata/068.csv        \r\n",
        "  inflating: specdata/069.csv        \r\n",
        "  inflating: specdata/070.csv        \r\n",
        "  inflating: specdata/071.csv        \r\n",
        "  inflating: specdata/072.csv        \r\n",
        "  inflating: specdata/073.csv        \r\n",
        "  inflating: specdata/074.csv        \r\n",
        "  inflating: specdata/075.csv        \r\n",
        "  inflating: specdata/076.csv        \r\n",
        "  inflating: specdata/077.csv        \r\n",
        "  inflating: specdata/078.csv        \r\n",
        "  inflating: specdata/079.csv        \r\n",
        "  inflating: specdata/080.csv        \r\n",
        "  inflating: specdata/081.csv        \r\n",
        "  inflating: specdata/082.csv        \r\n",
        "  inflating: specdata/083.csv        \r\n",
        "  inflating: specdata/084.csv        \r\n",
        "  inflating: specdata/085.csv        \r\n",
        "  inflating: specdata/086.csv        \r\n",
        "  inflating: specdata/087.csv        \r\n",
        "  inflating: specdata/088.csv        \r\n",
        "  inflating: specdata/089.csv        \r\n",
        "  inflating: specdata/090.csv        \r\n",
        "  inflating: specdata/091.csv        \r\n",
        "  inflating: specdata/092.csv        \r\n",
        "  inflating: specdata/093.csv        \r\n",
        "  inflating: specdata/094.csv        \r\n",
        "  inflating: specdata/095.csv        \r\n",
        "  inflating: specdata/096.csv        \r\n",
        "  inflating: specdata/097.csv        \r\n",
        "  inflating: specdata/098.csv        \r\n",
        "  inflating: specdata/099.csv        \r\n",
        "  inflating: specdata/100.csv        \r\n",
        "  inflating: specdata/101.csv        \r\n",
        "  inflating: specdata/102.csv        \r\n",
        "  inflating: specdata/103.csv        \r\n",
        "  inflating: specdata/104.csv        "
       ]
      },
      {
       "output_type": "stream",
       "stream": "stdout",
       "text": [
        "\r\n",
        "  inflating: specdata/105.csv        \r\n",
        "  inflating: specdata/106.csv        \r\n",
        "  inflating: specdata/107.csv        \r\n",
        "  inflating: specdata/108.csv        \r\n",
        "  inflating: specdata/109.csv        \r\n",
        "  inflating: specdata/110.csv        \r\n",
        "  inflating: specdata/111.csv        \r\n",
        "  inflating: specdata/112.csv        \r\n",
        "  inflating: specdata/113.csv        \r\n",
        "  inflating: specdata/114.csv        \r\n",
        "  inflating: specdata/115.csv        \r\n",
        "  inflating: specdata/116.csv        \r\n",
        "  inflating: specdata/117.csv        \r\n",
        "  inflating: specdata/118.csv        \r\n",
        "  inflating: specdata/119.csv        \r\n",
        "  inflating: specdata/120.csv        \r\n",
        "  inflating: specdata/121.csv        \r\n",
        "  inflating: specdata/122.csv        \r\n",
        "  inflating: specdata/123.csv        \r\n",
        "  inflating: specdata/124.csv        \r\n",
        "  inflating: specdata/125.csv        \r\n",
        "  inflating: specdata/126.csv        \r\n",
        "  inflating: specdata/127.csv        \r\n",
        "  inflating: specdata/128.csv        \r\n",
        "  inflating: specdata/129.csv        \r\n",
        "  inflating: specdata/130.csv        \r\n",
        "  inflating: specdata/131.csv        \r\n",
        "  inflating: specdata/132.csv        \r\n",
        "  inflating: specdata/133.csv        \r\n",
        "  inflating: specdata/134.csv        \r\n",
        "  inflating: specdata/135.csv        \r\n",
        "  inflating: specdata/136.csv        \r\n",
        "  inflating: specdata/137.csv        "
       ]
      },
      {
       "output_type": "stream",
       "stream": "stdout",
       "text": [
        "\r\n",
        "  inflating: specdata/138.csv        \r\n",
        "  inflating: specdata/139.csv        \r\n",
        "  inflating: specdata/140.csv        \r\n",
        "  inflating: specdata/141.csv        \r\n",
        "  inflating: specdata/142.csv        \r\n",
        "  inflating: specdata/143.csv        \r\n",
        "  inflating: specdata/144.csv        \r\n",
        "  inflating: specdata/145.csv        \r\n",
        "  inflating: specdata/146.csv        \r\n",
        "  inflating: specdata/147.csv        \r\n",
        "  inflating: specdata/148.csv        \r\n",
        "  inflating: specdata/149.csv        \r\n",
        "  inflating: specdata/150.csv        \r\n",
        "  inflating: specdata/151.csv        \r\n",
        "  inflating: specdata/152.csv        \r\n",
        "  inflating: specdata/153.csv        \r\n",
        "  inflating: specdata/154.csv        \r\n",
        "  inflating: specdata/155.csv        \r\n",
        "  inflating: specdata/156.csv        \r\n",
        "  inflating: specdata/157.csv        \r\n",
        "  inflating: specdata/158.csv        \r\n",
        "  inflating: specdata/159.csv        \r\n",
        "  inflating: specdata/160.csv        \r\n",
        "  inflating: specdata/161.csv        \r\n",
        "  inflating: specdata/162.csv        \r\n",
        "  inflating: specdata/163.csv        \r\n",
        "  inflating: specdata/164.csv        \r\n",
        "  inflating: specdata/165.csv        \r\n",
        "  inflating: specdata/166.csv        \r\n",
        "  inflating: specdata/167.csv        \r\n",
        "  inflating: specdata/168.csv        \r\n",
        "  inflating: specdata/169.csv        \r\n",
        "  inflating: specdata/170.csv        \r\n",
        "  inflating: specdata/171.csv        \r\n",
        "  inflating: specdata/172.csv        \r\n",
        "  inflating: specdata/173.csv        \r\n",
        "  inflating: specdata/174.csv        \r\n",
        "  inflating: specdata/175.csv        \r\n",
        "  inflating: specdata/176.csv        \r\n",
        "  inflating: specdata/177.csv        \r\n",
        "  inflating: specdata/178.csv        \r\n",
        "  inflating: specdata/179.csv        \r\n",
        "  inflating: specdata/180.csv        \r\n",
        "  inflating: specdata/181.csv        \r\n",
        "  inflating: specdata/182.csv        \r\n",
        "  inflating: specdata/183.csv        \r\n",
        "  inflating: specdata/184.csv        \r\n",
        "  inflating: specdata/185.csv        \r\n",
        "  inflating: specdata/186.csv        \r\n",
        "  inflating: specdata/187.csv        \r\n",
        "  inflating: specdata/188.csv        \r\n",
        "  inflating: specdata/189.csv        \r\n",
        "  inflating: specdata/190.csv        \r\n",
        "  inflating: specdata/191.csv        \r\n",
        "  inflating: specdata/192.csv        \r\n",
        "  inflating: specdata/193.csv        \r\n",
        "  inflating: specdata/194.csv        \r\n",
        "  inflating: specdata/195.csv        \r\n",
        "  inflating: specdata/196.csv        \r\n",
        "  inflating: specdata/197.csv        \r\n",
        "  inflating: specdata/198.csv        \r\n",
        "  inflating: specdata/199.csv        \r\n",
        "  inflating: specdata/200.csv        \r\n"
       ]
      },
      {
       "output_type": "stream",
       "stream": "stdout",
       "text": [
        "  inflating: specdata/201.csv        \r\n",
        "  inflating: specdata/202.csv        \r\n",
        "  inflating: specdata/203.csv        \r\n",
        "  inflating: specdata/204.csv        \r\n",
        "  inflating: specdata/205.csv        \r\n",
        "  inflating: specdata/206.csv        \r\n",
        "  inflating: specdata/207.csv        \r\n",
        "  inflating: specdata/208.csv        \r\n",
        "  inflating: specdata/209.csv        \r\n",
        "  inflating: specdata/210.csv        \r\n",
        "  inflating: specdata/211.csv        \r\n",
        "  inflating: specdata/212.csv        \r\n",
        "  inflating: specdata/213.csv        \r\n",
        "  inflating: specdata/214.csv        \r\n",
        "  inflating: specdata/215.csv        \r\n",
        "  inflating: specdata/216.csv        \r\n",
        "  inflating: specdata/217.csv        \r\n",
        "  inflating: specdata/218.csv        \r\n",
        "  inflating: specdata/219.csv        \r\n",
        "  inflating: specdata/220.csv        \r\n",
        "  inflating: specdata/221.csv        \r\n",
        "  inflating: specdata/222.csv        \r\n",
        "  inflating: specdata/223.csv        \r\n",
        "  inflating: specdata/224.csv        \r\n",
        "  inflating: specdata/225.csv        \r\n",
        "  inflating: specdata/226.csv        \r\n",
        "  inflating: specdata/227.csv        \r\n",
        "  inflating: specdata/228.csv        \r\n"
       ]
      },
      {
       "output_type": "stream",
       "stream": "stdout",
       "text": [
        "  inflating: specdata/229.csv        \r\n",
        "  inflating: specdata/230.csv        \r\n",
        "  inflating: specdata/231.csv        \r\n",
        "  inflating: specdata/232.csv        \r\n",
        "  inflating: specdata/233.csv        \r\n",
        "  inflating: specdata/234.csv        \r\n",
        "  inflating: specdata/235.csv        \r\n",
        "  inflating: specdata/236.csv        \r\n",
        "  inflating: specdata/237.csv        \r\n",
        "  inflating: specdata/238.csv        \r\n",
        "  inflating: specdata/239.csv        \r\n",
        "  inflating: specdata/240.csv        \r\n",
        "  inflating: specdata/241.csv        \r\n",
        "  inflating: specdata/242.csv        \r\n",
        "  inflating: specdata/243.csv        \r\n",
        "  inflating: specdata/244.csv        \r\n",
        "  inflating: specdata/245.csv        \r\n",
        "  inflating: specdata/246.csv        \r\n",
        "  inflating: specdata/247.csv        \r\n",
        "  inflating: specdata/248.csv        \r\n",
        "  inflating: specdata/249.csv        \r\n",
        "  inflating: specdata/250.csv        \r\n",
        "  inflating: specdata/251.csv        \r\n",
        "  inflating: specdata/252.csv        \r\n",
        "  inflating: specdata/253.csv        "
       ]
      },
      {
       "output_type": "stream",
       "stream": "stdout",
       "text": [
        "\r\n",
        "  inflating: specdata/254.csv        \r\n",
        "  inflating: specdata/255.csv        \r\n",
        "  inflating: specdata/256.csv        \r\n",
        "  inflating: specdata/257.csv        \r\n",
        "  inflating: specdata/258.csv        \r\n",
        "  inflating: specdata/259.csv        \r\n",
        "  inflating: specdata/260.csv        \r\n",
        "  inflating: specdata/261.csv        \r\n",
        "  inflating: specdata/262.csv        \r\n",
        "  inflating: specdata/263.csv        \r\n",
        "  inflating: specdata/264.csv        \r\n",
        "  inflating: specdata/265.csv        \r\n",
        "  inflating: specdata/266.csv        \r\n",
        "  inflating: specdata/267.csv        \r\n",
        "  inflating: specdata/268.csv        \r\n",
        "  inflating: specdata/269.csv        \r\n",
        "  inflating: specdata/270.csv        \r\n",
        "  inflating: specdata/271.csv        \r\n",
        "  inflating: specdata/272.csv        \r\n",
        "  inflating: specdata/273.csv        \r\n",
        "  inflating: specdata/274.csv        \r\n",
        "  inflating: specdata/275.csv        \r\n",
        "  inflating: specdata/276.csv        \r\n",
        "  inflating: specdata/277.csv        \r\n",
        "  inflating: specdata/278.csv        \r\n",
        "  inflating: specdata/279.csv        \r\n",
        "  inflating: specdata/280.csv        \r\n",
        "  inflating: specdata/281.csv        \r\n",
        "  inflating: specdata/282.csv        \r\n",
        "  inflating: specdata/283.csv        \r\n",
        "  inflating: specdata/284.csv        \r\n",
        "  inflating: specdata/285.csv        \r\n",
        "  inflating: specdata/286.csv        \r\n",
        "  inflating: specdata/287.csv        \r\n",
        "  inflating: specdata/288.csv        \r\n",
        "  inflating: specdata/289.csv        \r\n",
        "  inflating: specdata/290.csv        \r\n",
        "  inflating: specdata/291.csv        \r\n",
        "  inflating: specdata/292.csv        \r\n",
        "  inflating: specdata/293.csv        \r\n",
        "  inflating: specdata/294.csv        \r\n",
        "  inflating: specdata/295.csv        \r\n",
        "  inflating: specdata/296.csv        \r\n",
        "  inflating: specdata/297.csv        \r\n",
        "  inflating: specdata/298.csv        \r\n",
        "  inflating: specdata/299.csv        \r\n",
        "  inflating: specdata/300.csv        \r\n",
        "  inflating: specdata/301.csv        "
       ]
      },
      {
       "output_type": "stream",
       "stream": "stdout",
       "text": [
        "\r\n",
        "  inflating: specdata/302.csv        \r\n",
        "  inflating: specdata/303.csv        \r\n",
        "  inflating: specdata/304.csv        \r\n",
        "  inflating: specdata/305.csv        \r\n",
        "  inflating: specdata/306.csv        \r\n",
        "  inflating: specdata/307.csv        \r\n",
        "  inflating: specdata/308.csv        \r\n",
        "  inflating: specdata/309.csv        \r\n",
        "  inflating: specdata/310.csv        \r\n",
        "  inflating: specdata/311.csv        \r\n",
        "  inflating: specdata/312.csv        \r\n",
        "  inflating: specdata/313.csv        \r\n",
        "  inflating: specdata/314.csv        \r\n",
        "  inflating: specdata/315.csv        \r\n",
        "  inflating: specdata/316.csv        \r\n",
        "  inflating: specdata/317.csv        \r\n",
        "  inflating: specdata/318.csv        \r\n",
        "  inflating: specdata/319.csv        \r\n",
        "  inflating: specdata/320.csv        \r\n",
        "  inflating: specdata/321.csv        \r\n",
        "  inflating: specdata/322.csv        \r\n",
        "  inflating: specdata/323.csv        \r\n",
        "  inflating: specdata/324.csv        \r\n",
        "  inflating: specdata/325.csv        \r\n",
        "  inflating: specdata/326.csv        \r\n",
        "  inflating: specdata/327.csv        "
       ]
      },
      {
       "output_type": "stream",
       "stream": "stdout",
       "text": [
        "\r\n",
        "  inflating: specdata/328.csv        "
       ]
      },
      {
       "output_type": "stream",
       "stream": "stdout",
       "text": [
        "\r\n",
        "  inflating: specdata/329.csv        \r\n",
        "  inflating: specdata/330.csv        \r\n",
        "  inflating: specdata/331.csv        \r\n",
        "  inflating: specdata/332.csv        \r\n"
       ]
      }
     ],
     "prompt_number": 5
    },
    {
     "cell_type": "code",
     "collapsed": false,
     "input": [
      "def getmonitor(id, directory, summarize = False):\n",
      "    \n",
      "    filename = str(id).zfill(3) + '.csv'\n",
      "    df = pd.read_csv(os.path.join(directory, filename), parse_dates=['Date'])\n",
      "    if summarize:\n",
      "        print df.describe()\n",
      "    return df"
     ],
     "language": "python",
     "metadata": {},
     "outputs": [],
     "prompt_number": 6
    },
    {
     "cell_type": "code",
     "collapsed": false,
     "input": [
      "df = getmonitor(1,'specdata')\n",
      "print df.head()"
     ],
     "language": "python",
     "metadata": {},
     "outputs": [
      {
       "output_type": "stream",
       "stream": "stdout",
       "text": [
        "                 Date  sulfate  nitrate  ID\n",
        "0 2003-01-01 00:00:00      NaN      NaN   1\n",
        "1 2003-01-02 00:00:00      NaN      NaN   1\n",
        "2 2003-01-03 00:00:00      NaN      NaN   1\n",
        "3 2003-01-04 00:00:00      NaN      NaN   1\n",
        "4 2003-01-05 00:00:00      NaN      NaN   1\n"
       ]
      }
     ],
     "prompt_number": 7
    },
    {
     "cell_type": "code",
     "collapsed": false,
     "input": [
      "df = getmonitor(101,'specdata', True)"
     ],
     "language": "python",
     "metadata": {},
     "outputs": [
      {
       "output_type": "stream",
       "stream": "stdout",
       "text": [
        "         sulfate    nitrate   ID\n",
        "count  64.000000  64.000000  730\n",
        "mean    6.266719   2.267859  101\n",
        "std     4.731371   2.630934    0\n",
        "min     1.700000   0.249000  101\n",
        "25%     3.062500   0.618250  101\n",
        "50%     4.345000   1.050000  101\n",
        "75%     7.435000   2.782500  101\n",
        "max    22.100000  10.800000  101\n"
       ]
      }
     ],
     "prompt_number": 8
    },
    {
     "cell_type": "markdown",
     "metadata": {},
     "source": [
      "##Part B\n",
      "\n",
      "        ## Return a data frame of the form:\n",
      "        ## id nobs\n",
      "        ## 1  117\n",
      "        ## 2  1041"
     ]
    },
    {
     "cell_type": "code",
     "collapsed": false,
     "input": [
      "def complete(directory, lst):\n",
      "    \n",
      "    data = {'id': [], 'count': []}\n",
      "    for id in lst:\n",
      "        df = getmonitor(id,directory)\n",
      "        df = df.dropna()\n",
      "        data['id'].append(id)\n",
      "        data['count'].append(len(df))\n",
      "    \n",
      "    return pd.DataFrame(data)"
     ],
     "language": "python",
     "metadata": {},
     "outputs": [],
     "prompt_number": 9
    },
    {
     "cell_type": "code",
     "collapsed": false,
     "input": [
      "df = complete('specdata', range(1,40))"
     ],
     "language": "python",
     "metadata": {},
     "outputs": [],
     "prompt_number": 10
    },
    {
     "cell_type": "code",
     "collapsed": false,
     "input": [
      "print len(df)"
     ],
     "language": "python",
     "metadata": {},
     "outputs": [
      {
       "output_type": "stream",
       "stream": "stdout",
       "text": [
        "39\n"
       ]
      }
     ],
     "prompt_number": 11
    },
    {
     "cell_type": "code",
     "collapsed": false,
     "input": [
      "print df[['id','count']].head()"
     ],
     "language": "python",
     "metadata": {},
     "outputs": [
      {
       "output_type": "stream",
       "stream": "stdout",
       "text": [
        "   id  count\n",
        "0   1    117\n",
        "1   2   1041\n",
        "2   3    243\n",
        "3   4    474\n",
        "4   5    402\n"
       ]
      }
     ],
     "prompt_number": 12
    },
    {
     "cell_type": "markdown",
     "metadata": {},
     "source": [
      "##Part 3\n",
      "\n",
      "        > cr <- corr(\"specdata\", 150) \n",
      "        > head(cr) \n",
      "        [1] -0.01895754 -0.14051254 -0.04389737 -0.06815956 -0.12350667 -0.07588814 \n"
     ]
    },
    {
     "cell_type": "code",
     "collapsed": false,
     "input": [
      "def corr(directory, threshold=0):\n",
      "    files = glob.glob(os.path.join(directory,'*'))\n",
      "    data = []\n",
      "    for f in files:\n",
      "        tmp = pd.read_csv(f, parse_dates=['Date'])\n",
      "        tmp = tmp.dropna()\n",
      "        if len(tmp) > threshold:\n",
      "            data.append(tmp)\n",
      "    df = pd.concat(data)\n",
      "    return df\n",
      "    "
     ],
     "language": "python",
     "metadata": {},
     "outputs": [],
     "prompt_number": 13
    },
    {
     "cell_type": "code",
     "collapsed": false,
     "input": [
      "df = corr('specdata', 150)"
     ],
     "language": "python",
     "metadata": {},
     "outputs": [],
     "prompt_number": 14
    },
    {
     "cell_type": "code",
     "collapsed": false,
     "input": [
      "df.head()"
     ],
     "language": "python",
     "metadata": {},
     "outputs": [
      {
       "html": [
        "<div style=\"max-height:1000px;max-width:1500px;overflow:auto;\">\n",
        "<table border=\"1\" class=\"dataframe\">\n",
        "  <thead>\n",
        "    <tr style=\"text-align: right;\">\n",
        "      <th></th>\n",
        "      <th>Date</th>\n",
        "      <th>sulfate</th>\n",
        "      <th>nitrate</th>\n",
        "      <th>ID</th>\n",
        "    </tr>\n",
        "  </thead>\n",
        "  <tbody>\n",
        "    <tr>\n",
        "      <th>18</th>\n",
        "      <td>2001-01-19 00:00:00</td>\n",
        "      <td> 2.30</td>\n",
        "      <td> 0.699</td>\n",
        "      <td> 2</td>\n",
        "    </tr>\n",
        "    <tr>\n",
        "      <th>24</th>\n",
        "      <td>2001-01-25 00:00:00</td>\n",
        "      <td> 2.19</td>\n",
        "      <td> 4.970</td>\n",
        "      <td> 2</td>\n",
        "    </tr>\n",
        "    <tr>\n",
        "      <th>30</th>\n",
        "      <td>2001-01-31 00:00:00</td>\n",
        "      <td> 1.20</td>\n",
        "      <td> 1.330</td>\n",
        "      <td> 2</td>\n",
        "    </tr>\n",
        "    <tr>\n",
        "      <th>33</th>\n",
        "      <td>2001-02-03 00:00:00</td>\n",
        "      <td> 2.23</td>\n",
        "      <td> 1.910</td>\n",
        "      <td> 2</td>\n",
        "    </tr>\n",
        "    <tr>\n",
        "      <th>36</th>\n",
        "      <td>2001-02-06 00:00:00</td>\n",
        "      <td> 4.15</td>\n",
        "      <td> 1.390</td>\n",
        "      <td> 2</td>\n",
        "    </tr>\n",
        "  </tbody>\n",
        "</table>\n",
        "</div>"
       ],
       "metadata": {},
       "output_type": "pyout",
       "prompt_number": 15,
       "text": [
        "                  Date  sulfate  nitrate  ID\n",
        "18 2001-01-19 00:00:00     2.30    0.699   2\n",
        "24 2001-01-25 00:00:00     2.19    4.970   2\n",
        "30 2001-01-31 00:00:00     1.20    1.330   2\n",
        "33 2001-02-03 00:00:00     2.23    1.910   2\n",
        "36 2001-02-06 00:00:00     4.15    1.390   2"
       ]
      }
     ],
     "prompt_number": 15
    },
    {
     "cell_type": "code",
     "collapsed": false,
     "input": [
      "df['sulfate'].corr(df['nitrate'])"
     ],
     "language": "python",
     "metadata": {},
     "outputs": [
      {
       "metadata": {},
       "output_type": "pyout",
       "prompt_number": 16,
       "text": [
        "-0.073521904700536406"
       ]
      }
     ],
     "prompt_number": 16
    },
    {
     "cell_type": "code",
     "collapsed": false,
     "input": [],
     "language": "python",
     "metadata": {},
     "outputs": []
    }
   ],
   "metadata": {}
  }
 ]
}